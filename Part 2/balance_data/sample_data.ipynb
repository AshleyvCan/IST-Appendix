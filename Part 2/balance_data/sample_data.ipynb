{
 "cells": [
  {
   "cell_type": "code",
   "execution_count": 20,
   "metadata": {},
   "outputs": [],
   "source": [
    "import pandas as pd\n",
    "#import torch\n",
    "import numpy as np\n",
    "\n",
    "from tqdm import tqdm"
   ]
  },
  {
   "cell_type": "markdown",
   "metadata": {},
   "source": [
    "# Balance data for Task1"
   ]
  },
  {
   "cell_type": "code",
   "execution_count": 1,
   "metadata": {},
   "outputs": [],
   "source": [
    "datapath = '../segments_final.xlsx'\n",
    "df = pd.read_excel(datapath)"
   ]
  },
  {
   "cell_type": "code",
   "execution_count": 22,
   "metadata": {},
   "outputs": [],
   "source": [
    "df['sum_req'] = df[df.columns[-9:]].sum(axis=1)\n",
    "df['label'] = [1 if l > 0 else 0 for l in df['sum_req']]"
   ]
  },
  {
   "cell_type": "code",
   "execution_count": 23,
   "metadata": {},
   "outputs": [
    {
     "data": {
      "text/plain": [
       "label\n",
       "0    8478\n",
       "1    2106\n",
       "Name: count, dtype: int64"
      ]
     },
     "execution_count": 23,
     "metadata": {},
     "output_type": "execute_result"
    }
   ],
   "source": [
    "df['label'].value_counts()"
   ]
  },
  {
   "cell_type": "code",
   "execution_count": 24,
   "metadata": {},
   "outputs": [],
   "source": [
    "def get_stats(df, label_name = 'label'):    \n",
    "    sum_per_project_req =df.groupby(['project',label_name])['id'].count().reset_index()\n",
    "    sum_per_project = sum_per_project_req.groupby('project').sum().reset_index()\n",
    "    stats_org_data = pd.merge(sum_per_project_req, sum_per_project, on = 'project')\n",
    "    stats_org_data['perc'] = stats_org_data['id_x']/stats_org_data['id_y']\n",
    "    return stats_org_data"
   ]
  },
  {
   "cell_type": "code",
   "execution_count": 25,
   "metadata": {},
   "outputs": [],
   "source": [
    "stats_org_data = get_stats(df)"
   ]
  },
  {
   "cell_type": "code",
   "execution_count": 27,
   "metadata": {},
   "outputs": [
    {
     "name": "stdout",
     "output_type": "stream",
     "text": [
      "0.15565022240481158 0.15565022240481158\n",
      "0.7487478969475427 0.25125210305245715\n"
     ]
    }
   ],
   "source": [
    "print(stats_org_data[stats_org_data['label_x'] ==0]['perc'].std(ddof=0), stats_org_data[stats_org_data['label_x'] ==1]['perc'].std(ddof=0))\n",
    "print(stats_org_data[stats_org_data['label_x'] ==0]['perc'].mean(), stats_org_data[stats_org_data['label_x'] ==1]['perc'].mean())"
   ]
  },
  {
   "cell_type": "code",
   "execution_count": 28,
   "metadata": {},
   "outputs": [],
   "source": [
    "label_name = 'label'"
   ]
  },
  {
   "cell_type": "code",
   "execution_count": 29,
   "metadata": {},
   "outputs": [],
   "source": [
    "all_rows = []\n",
    "for p in df['project'].unique():\n",
    "    df_subset = df[df['project'] == p]\n",
    "    values_counts = df_subset[label_name].value_counts()\n",
    "    if max(values_counts) > round(min(values_counts) * 1.5):\n",
    "        df_subset_major = df_subset[df_subset[label_name] == np.argmax(values_counts)]\n",
    "        index_sample = np.random.choice(df_subset_major.index, round(min(values_counts) * 1.5))\n",
    "        all_rows.extend(df_subset_major.loc[index_sample].to_dict('records'))\n",
    "        all_rows.extend(df_subset[df_subset[label_name] == np.argmin(values_counts)].to_dict('records'))\n",
    "    else:\n",
    "        all_rows.extend(df_subset.to_dict('records'))\n",
    "    "
   ]
  },
  {
   "cell_type": "code",
   "execution_count": 30,
   "metadata": {},
   "outputs": [],
   "source": [
    "df_label_balanced =pd.DataFrame(all_rows)"
   ]
  },
  {
   "cell_type": "code",
   "execution_count": 31,
   "metadata": {},
   "outputs": [
    {
     "data": {
      "text/plain": [
       "label\n",
       "0    2990\n",
       "1    2106\n",
       "Name: count, dtype: int64"
      ]
     },
     "execution_count": 31,
     "metadata": {},
     "output_type": "execute_result"
    }
   ],
   "source": [
    "df_label_balanced['label'].value_counts()"
   ]
  },
  {
   "cell_type": "code",
   "execution_count": 36,
   "metadata": {},
   "outputs": [
    {
     "data": {
      "text/plain": [
       "0.5824210341600914"
      ]
     },
     "execution_count": 36,
     "metadata": {},
     "output_type": "execute_result"
    }
   ],
   "source": [
    "stats_balanced_data = get_stats(df_label_balanced)\n",
    "stats_balanced_data[stats_balanced_data['label_x'] ==0]['perc'].mean()"
   ]
  },
  {
   "cell_type": "code",
   "execution_count": 37,
   "metadata": {},
   "outputs": [
    {
     "data": {
      "text/plain": [
       "0.04739905716363859"
      ]
     },
     "execution_count": 37,
     "metadata": {},
     "output_type": "execute_result"
    }
   ],
   "source": [
    "stats_balanced_data[stats_balanced_data['label_x'] ==0]['perc'].std(ddof=0)"
   ]
  },
  {
   "cell_type": "code",
   "execution_count": 17,
   "metadata": {},
   "outputs": [],
   "source": [
    "#df_label_balanced.to_excel('segments_balanced.xlsx', index=False)"
   ]
  },
  {
   "cell_type": "markdown",
   "metadata": {},
   "source": [
    "# Balancing data for Task2"
   ]
  },
  {
   "cell_type": "code",
   "execution_count": null,
   "metadata": {},
   "outputs": [],
   "source": [
    "datapath = '../segments_types_final.xlsx'\n",
    "\n",
    "df = pd.read_excel(datapath)"
   ]
  },
  {
   "cell_type": "code",
   "execution_count": 5,
   "metadata": {},
   "outputs": [
    {
     "data": {
      "text/plain": [
       "label_type\n",
       "0    1375\n",
       "1     352\n",
       "2     295\n",
       "Name: count, dtype: int64"
      ]
     },
     "execution_count": 5,
     "metadata": {},
     "output_type": "execute_result"
    }
   ],
   "source": [
    "df['label_type'].value_counts()"
   ]
  },
  {
   "cell_type": "code",
   "execution_count": 6,
   "metadata": {},
   "outputs": [],
   "source": [
    "avg_count_per_label = df.groupby(['project', 'label_type']).count().reset_index()[['project','label_type', 'id']].groupby('label_type').mean('id').to_dict()['id']"
   ]
  },
  {
   "cell_type": "code",
   "execution_count": 7,
   "metadata": {},
   "outputs": [],
   "source": [
    "label_name = 'label_type'"
   ]
  },
  {
   "cell_type": "code",
   "execution_count": 3,
   "metadata": {},
   "outputs": [],
   "source": [
    "all_rows = []\n",
    "for p in df['project'].unique():\n",
    "    df_subset = df[df['project'] == p]\n",
    "    values_counts = df_subset[label_name].value_counts()\n",
    "    for k, v in values_counts.items():\n",
    "        if v > round(min(values_counts) * 2):\n",
    "            new_value = round(max(avg_count_per_label[np.argmin(values_counts)], min(values_counts) * 2))\n",
    "            df_subset_major = df_subset[df_subset[label_name] == k]\n",
    "            index_sample = np.random.choice(df_subset_major.index, new_value)\n",
    "            all_rows.extend(df_subset_major.loc[index_sample].to_dict('records'))\n",
    "        else:\n",
    "            all_rows.extend(df_subset[df_subset[label_name] == k].to_dict('records'))"
   ]
  },
  {
   "cell_type": "code",
   "execution_count": 13,
   "metadata": {},
   "outputs": [],
   "source": [
    "avg_count_per_label = df.groupby(['project', 'label_type']).count().reset_index()[['project','label_type', 'id']].groupby('label_type').mean('id').reset_index()"
   ]
  },
  {
   "cell_type": "code",
   "execution_count": 15,
   "metadata": {},
   "outputs": [],
   "source": [
    "stats_balanced_data = get_stats(pd.DataFrame(all_rows), 'label_type')\n",
    "stats_org_data = get_stats(df, 'label_type')\n"
   ]
  },
  {
   "cell_type": "code",
   "execution_count": 16,
   "metadata": {},
   "outputs": [
    {
     "name": "stdout",
     "output_type": "stream",
     "text": [
      "0.20442024265202238 0.2121353001970558 0.07190544714041365\n"
     ]
    }
   ],
   "source": [
    "print(stats_org_data[stats_org_data['label_type_x'] ==0]['perc'].std(ddof=0),\n",
    "stats_org_data[stats_org_data['label_type_x'] ==1]['perc'].std(ddof=0),\n",
    "stats_org_data[stats_org_data['label_type_x'] ==2]['perc'].std(ddof=0))"
   ]
  },
  {
   "cell_type": "code",
   "execution_count": 17,
   "metadata": {},
   "outputs": [
    {
     "name": "stdout",
     "output_type": "stream",
     "text": [
      "0.6471024707705231 0.2064859351501615 0.1464115940793155\n"
     ]
    }
   ],
   "source": [
    "print(stats_org_data[stats_org_data['label_type_x'] ==0]['perc'].mean(),\n",
    "stats_org_data[stats_org_data['label_type_x'] ==1]['perc'].mean(),\n",
    "stats_org_data[stats_org_data['label_type_x'] ==2]['perc'].mean())"
   ]
  },
  {
   "cell_type": "code",
   "execution_count": 18,
   "metadata": {},
   "outputs": [
    {
     "name": "stdout",
     "output_type": "stream",
     "text": [
      "0.09268008424814356 0.17541114956054796 0.12320727201275117\n"
     ]
    }
   ],
   "source": [
    "print(stats_balanced_data[stats_balanced_data['label_type_x'] ==0]['perc'].std(ddof=0),\n",
    "stats_balanced_data[stats_balanced_data['label_type_x'] ==1]['perc'].std(ddof=0),\n",
    "stats_balanced_data[stats_balanced_data['label_type_x'] ==2]['perc'].std(ddof=0))"
   ]
  },
  {
   "cell_type": "code",
   "execution_count": 19,
   "metadata": {},
   "outputs": [
    {
     "name": "stdout",
     "output_type": "stream",
     "text": [
      "0.4205650962021405 0.2884209041316325 0.29101399966622704\n"
     ]
    }
   ],
   "source": [
    "print(stats_balanced_data[stats_balanced_data['label_type_x'] ==0]['perc'].mean(),\n",
    "stats_balanced_data[stats_balanced_data['label_type_x'] ==1]['perc'].mean(),\n",
    "stats_balanced_data[stats_balanced_data['label_type_x'] ==2]['perc'].mean())"
   ]
  },
  {
   "cell_type": "code",
   "execution_count": 11,
   "metadata": {},
   "outputs": [
    {
     "data": {
      "text/plain": [
       "label_type\n",
       "0    457\n",
       "1    308\n",
       "2    291\n",
       "Name: count, dtype: int64"
      ]
     },
     "execution_count": 11,
     "metadata": {},
     "output_type": "execute_result"
    }
   ],
   "source": [
    "pd.DataFrame(all_rows)['label_type'].value_counts()"
   ]
  },
  {
   "cell_type": "code",
   "execution_count": 14,
   "metadata": {},
   "outputs": [],
   "source": [
    "#pd.DataFrame(all_rows).to_excel('segments_types_balanced.xlsx', index=False)"
   ]
  }
 ],
 "metadata": {
  "kernelspec": {
   "display_name": "env_usst",
   "language": "python",
   "name": "python3"
  },
  "language_info": {
   "codemirror_mode": {
    "name": "ipython",
    "version": 3
   },
   "file_extension": ".py",
   "mimetype": "text/x-python",
   "name": "python",
   "nbconvert_exporter": "python",
   "pygments_lexer": "ipython3",
   "version": "3.9.16"
  }
 },
 "nbformat": 4,
 "nbformat_minor": 2
}
