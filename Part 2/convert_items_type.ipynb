{
 "cells": [
  {
   "cell_type": "code",
   "execution_count": 1,
   "metadata": {},
   "outputs": [],
   "source": [
    "import pandas as pd"
   ]
  },
  {
   "cell_type": "code",
   "execution_count": null,
   "metadata": {},
   "outputs": [],
   "source": [
    "df = pd.read_excel('segments_final.xlsx')\n",
    "\n",
    "user_columns = [col for col in df.columns if col.endswith('user')]\n",
    "system_columns = [col for col in df.columns if col.endswith('system')]\n",
    "nfr_columns = [col for col in df.columns if col.endswith('nfr')]\n",
    "\n",
    "df['req_user'] = df[user_columns].sum(axis=1)\n",
    "df['req_system'] = df[system_columns].sum(axis=1)\n",
    "df['req_nfr'] = df[nfr_columns].sum(axis=1)"
   ]
  },
  {
   "cell_type": "markdown",
   "metadata": {},
   "source": [
    "## remove items with two types"
   ]
  },
  {
   "cell_type": "code",
   "execution_count": 6,
   "metadata": {},
   "outputs": [],
   "source": [
    "condition = ((df['req_user'] > 0).astype(int) + \n",
    "             (df['req_system'] > 0).astype(int) + \n",
    "             (df['req_nfr'] > 0).astype(int)) < 2\n",
    "\n",
    "filtered_df = df[condition]"
   ]
  },
  {
   "cell_type": "code",
   "execution_count": 7,
   "metadata": {},
   "outputs": [],
   "source": [
    "def process_row(row):\n",
    "    if row['req_user'] > 0:\n",
    "        return 0\n",
    "    if row['req_system'] > 0:\n",
    "        return 1\n",
    "    if row['req_nfr'] > 0:\n",
    "        return 2\n",
    "    return -1"
   ]
  },
  {
   "cell_type": "code",
   "execution_count": 8,
   "metadata": {},
   "outputs": [
    {
     "name": "stderr",
     "output_type": "stream",
     "text": [
      "C:\\Users\\Can00004\\AppData\\Local\\Temp\\ipykernel_24876\\4164087504.py:1: SettingWithCopyWarning: \n",
      "A value is trying to be set on a copy of a slice from a DataFrame.\n",
      "Try using .loc[row_indexer,col_indexer] = value instead\n",
      "\n",
      "See the caveats in the documentation: https://pandas.pydata.org/pandas-docs/stable/user_guide/indexing.html#returning-a-view-versus-a-copy\n",
      "  filtered_df.loc[:,'label_type'] = [process_row(row) for i, row in filtered_df.iterrows()]\n"
     ]
    }
   ],
   "source": [
    "filtered_df.loc[:,'label_type'] = [process_row(row) for i, row in filtered_df.iterrows()]"
   ]
  },
  {
   "cell_type": "code",
   "execution_count": null,
   "metadata": {},
   "outputs": [],
   "source": [
    "filtered_df[filtered_df['label_type'] > -1].to_excel('segments_types_final.xlsx')"
   ]
  },
  {
   "cell_type": "code",
   "execution_count": null,
   "metadata": {},
   "outputs": [],
   "source": []
  }
 ],
 "metadata": {
  "kernelspec": {
   "display_name": "env_usst",
   "language": "python",
   "name": "python3"
  },
  "language_info": {
   "codemirror_mode": {
    "name": "ipython",
    "version": 3
   },
   "file_extension": ".py",
   "mimetype": "text/x-python",
   "name": "python",
   "nbconvert_exporter": "python",
   "pygments_lexer": "ipython3",
   "version": "3.8.16"
  }
 },
 "nbformat": 4,
 "nbformat_minor": 2
}
